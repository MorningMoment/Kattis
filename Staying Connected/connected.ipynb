{
 "cells": [
  {
   "cell_type": "markdown",
   "metadata": {},
   "source": [
    "function dfs(graph, root_vertex)\n",
    "    Mark root_vertex as \"visited\"\n",
    "    for each vertex v connected to root_vertex by an edge do\n",
    "        if v is not marked as \"visited\"\n",
    "            Mark v as \"visited\"\n",
    "            dfs(graph, v)\n",
    "        end if\n",
    "    end for\n",
    "end function"
   ]
  },
  {
   "cell_type": "markdown",
   "metadata": {},
   "source": [
    "5\n",
    "6\n",
    "0 1\n",
    "0 3\n",
    "0 4\n",
    "1 4\n",
    "2 3\n",
    "3 4\n"
   ]
  },
  {
   "cell_type": "code",
   "execution_count": null,
   "metadata": {},
   "outputs": [],
   "source": [
    "a = input().split()\n",
    "a = [int(i) for i in a]\n",
    "x = []\n",
    "for i in range(a[1]):\n",
    "    x.append([a[2*i+2],a[2*i+3]])\n",
    "    \n",
    "flag = 0    \n",
    "def con(a):\n",
    "    ac = a.copy()\n",
    "    for i in a[flag:]:\n",
    "        b = [m[1] for m in x if m[0] ==i]\n",
    "        ac.append(b)\n",
    "    ac = list(set(ac))\n",
    "    if(ac == a):\n",
    "        return a\n",
    "    else:\n",
    "        flag = len(a)\n",
    "        return con(ac)\n",
    "con([0])"
   ]
  },
  {
   "cell_type": "code",
   "execution_count": 41,
   "metadata": {},
   "outputs": [
    {
     "name": "stdout",
     "output_type": "stream",
     "text": [
      "13 13 0 1 0 3 0 4 1 4 2 3 3 4 5 6 6 7 7 8 8 9 10 11 11 12 12 13\n"
     ]
    },
    {
     "data": {
      "text/plain": [
       "[[0, 1],\n",
       " [0, 3],\n",
       " [0, 4],\n",
       " [1, 4],\n",
       " [2, 3],\n",
       " [3, 4],\n",
       " [5, 6],\n",
       " [6, 7],\n",
       " [7, 8],\n",
       " [8, 9],\n",
       " [10, 11],\n",
       " [11, 12],\n",
       " [12, 13]]"
      ]
     },
     "execution_count": 41,
     "metadata": {},
     "output_type": "execute_result"
    }
   ],
   "source": [
    "a = input().split()\n",
    "a = [int(i) for i in a]\n",
    "x = []\n",
    "nodes = a[0]\n",
    "edges_num = a[1]\n",
    "for i in range(a[1]):\n",
    "    x.append([a[2*i+2],a[2*i+3]])\n",
    "x"
   ]
  },
  {
   "cell_type": "code",
   "execution_count": 34,
   "metadata": {},
   "outputs": [
    {
     "name": "stdout",
     "output_type": "stream",
     "text": [
      "5 6 0 1 0 3 0 4 1 4 2 3 3 4\n"
     ]
    },
    {
     "data": {
      "text/plain": [
       "[0, 1, 2, 3, 4]"
      ]
     },
     "execution_count": 34,
     "metadata": {},
     "output_type": "execute_result"
    }
   ],
   "source": [
    "flag = 0\n",
    "subgraph = [0]\n",
    "graph = []\n",
    "a = input().split()\n",
    "a = [int(i) for i in a]\n",
    "x = []\n",
    "nodes = a[0]\n",
    "edges_num = a[1]\n",
    "for i in range(a[1]):\n",
    "    x.append([a[2*i+2],a[2*i+3]])\n",
    "\n",
    "dfs(subgraph,flag,x)\n",
    "    "
   ]
  },
  {
   "cell_type": "code",
   "execution_count": 24,
   "metadata": {},
   "outputs": [],
   "source": [
    "def rm_list(a,b): #remove element of a from b\n",
    "    for i in a:\n",
    "        b.remove(i)\n",
    "    return b"
   ]
  },
  {
   "cell_type": "code",
   "execution_count": 43,
   "metadata": {},
   "outputs": [
    {
     "name": "stdout",
     "output_type": "stream",
     "text": [
      "5 4 0 1 0 2 1 2 3 4\n",
      "2\n"
     ]
    }
   ],
   "source": [
    "a = input().split()\n",
    "a = [int(i) for i in a]\n",
    "x = []\n",
    "nodes = a[0]\n",
    "edges_num = a[1]\n",
    "for i in range(a[1]):\n",
    "    x.append([a[2*i+2],a[2*i+3]])\n",
    "\n",
    "    \n",
    "def dfs(subgraph,flag,edges):\n",
    "    length = len(subgraph)\n",
    "    if len(subgraph) == flag:\n",
    "        return subgraph\n",
    "    \n",
    "    else:\n",
    "        for i in subgraph:\n",
    "            rm = []\n",
    "            for j in edges:\n",
    "                if i in j:\n",
    "                    subgraph.append(j[0])\n",
    "                    subgraph.append(j[1])\n",
    "                    rm.append(j)\n",
    "            for j in rm:\n",
    "                edges.remove(j)\n",
    "        subgraph = list(set(subgraph))\n",
    "        flag = length\n",
    "        #print(subgraph)\n",
    "        return dfs(subgraph,flag,edges)\n",
    "    \n",
    "graph = list(range(nodes))\n",
    "count = -1\n",
    "subgraph = []\n",
    "result = []\n",
    "while(len(graph)!=0):\n",
    "    flag = 0\n",
    "    count +=1\n",
    "    try :\n",
    "        subgraph = [rm_list(result,graph)[0]]\n",
    "    except:\n",
    "        break\n",
    "    result = dfs(subgraph,flag,x)\n",
    "print(count)"
   ]
  },
  {
   "cell_type": "code",
   "execution_count": null,
   "metadata": {},
   "outputs": [],
   "source": [
    "a = [1,2,3]\n",
    "for i in a:\n",
    "    if i ==3:\n",
    "        a.remove(i)\n",
    "a"
   ]
  },
  {
   "cell_type": "code",
   "execution_count": null,
   "metadata": {},
   "outputs": [],
   "source": [
    "\n",
    "\n",
    "\n",
    "\n",
    "\n",
    "\n",
    "\n",
    "\n",
    "\n",
    "\n",
    "\n"
   ]
  }
 ],
 "metadata": {
  "kernelspec": {
   "display_name": "Python 3",
   "language": "python",
   "name": "python3"
  },
  "language_info": {
   "codemirror_mode": {
    "name": "ipython",
    "version": 3
   },
   "file_extension": ".py",
   "mimetype": "text/x-python",
   "name": "python",
   "nbconvert_exporter": "python",
   "pygments_lexer": "ipython3",
   "version": "3.6.5"
  }
 },
 "nbformat": 4,
 "nbformat_minor": 2
}
