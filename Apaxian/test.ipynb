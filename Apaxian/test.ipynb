{
 "cells": [
  {
   "cell_type": "markdown",
   "metadata": {},
   "source": [
    "If the community name appears at the start of the person’s name, that person was a princess.\n",
    "\n",
    "If the community name appears at the end of the person’s name, that person was a baron.\n",
    "\n",
    "If the community name appears in the middle of the person’s name, that person was a priest.\n",
    "\n",
    "If the community name does not appear anywhere in the person’s name, that person was considered a commoner in that community (although that same person could have a different status in a different community).\n",
    "\n",
    "mentior\n",
    "4\n",
    "mentioromenas\n",
    "asmentiorones\n",
    "summentior\n",
    "menolaxios\n",
    "\n",
    "1 PRINCESS\n",
    "1 BARON\n",
    "1 PRIEST\n",
    "1 COMMONER\n"
   ]
  },
  {
   "cell_type": "code",
   "execution_count": 25,
   "metadata": {},
   "outputs": [
    {
     "name": "stdout",
     "output_type": "stream",
     "text": [
      "mentior 4 mentioromenas asmentiorones summentior menolaxios\n",
      "1 PRINCESS\n",
      "1 BARON\n",
      "1 PRIEST\n",
      "1 COMMONER\n"
     ]
    }
   ],
   "source": [
    "cin = input().split()\n",
    "com_name = cin[0]\n",
    "n_names = int(cin[1])\n",
    "names = cin[2:]\n",
    "#print(names)\n",
    "\n",
    "def ident(names):\n",
    "    princess = 0\n",
    "    baron = 0\n",
    "    priest = 0\n",
    "    commoner = 0\n",
    "    for i in range(n_names):\n",
    "        name = names[i]\n",
    "        back_pos = len(name)-len(com_name)\n",
    "        if name.find(com_name)==0:\n",
    "            princess+=1\n",
    "        elif name.find(com_name)==back_pos:\n",
    "            baron+=1\n",
    "        elif name.find(com_name)>0 and name.find(com_name)<back_pos:\n",
    "            priest+=1\n",
    "        elif name.find(com_name)<0:\n",
    "            commoner+=1\n",
    "    return [princess,baron,priest,commoner]\n",
    "result = ident(names)\n",
    "\n",
    "print(result[0],\"princess\".upper(),end = '\\n')\n",
    "print(result[1],\"baron\".upper(),end = '\\n')\n",
    "print(result[2],\"priest\".upper(),end = '\\n')\n",
    "print(result[3],\"commoner\".upper(),end = '\\n')\n"
   ]
  },
  {
   "cell_type": "code",
   "execution_count": null,
   "metadata": {},
   "outputs": [],
   "source": []
  },
  {
   "cell_type": "code",
   "execution_count": null,
   "metadata": {},
   "outputs": [],
   "source": []
  }
 ],
 "metadata": {
  "kernelspec": {
   "display_name": "Python 3",
   "language": "python",
   "name": "python3"
  },
  "language_info": {
   "codemirror_mode": {
    "name": "ipython",
    "version": 3
   },
   "file_extension": ".py",
   "mimetype": "text/x-python",
   "name": "python",
   "nbconvert_exporter": "python",
   "pygments_lexer": "ipython3",
   "version": "3.7.3"
  }
 },
 "nbformat": 4,
 "nbformat_minor": 2
}
