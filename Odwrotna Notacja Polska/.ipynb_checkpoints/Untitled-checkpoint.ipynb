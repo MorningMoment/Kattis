{
 "cells": [
  {
   "cell_type": "markdown",
   "metadata": {},
   "source": [
    "The input contains a single line with the expression we want to evaluate. This will be a sequence of tokens, where each token is separated by a single space. The valid tokens are operators (+, *, ==, and, or), integers (for each integer x you can assume that 0⩽x⩽10000), and booleans (true or false). You can assume that there will be at least one token, but no more than 100 tokens."
   ]
  },
  {
   "cell_type": "markdown",
   "metadata": {},
   "source": [
    "- If the token is an integer or a boolean (true or false), push it into the stack.\n",
    "\n",
    "- If the token is an operator:\n",
    "\n",
    "    - Check if the stack has at least two values. If not, this is a SYNTAX ERROR.\n",
    "\n",
    "    - Pop two values from the stack. These will be the operands to the operator.\n",
    "\n",
    "    - If the operands don’t have the same type (i.e., if one is an integer and the other is a boolean), this is a TYPE ERROR.\n",
    "\n",
    "    - If the operator is addition, multiplication, or equality, but the operands are booleans, this is a TYPE ERROR.\n",
    "\n",
    "    - If the operator is logical OR or logical AND, but the operands are integers, this is a TYPE ERROR.\n",
    "\n",
    "At this point, we will know the operands are of the correct type. Apply the operator to the operands, and push the result into the stack.\n",
    "\n",
    "We continue doing this until there are no tokens left in the expression (note that, if we encounter an error, we do not evaluate the expression further). If, after evaluating the expression, the stack is empty or contains more than one value, that is a SYNTAX ERROR. If there were no errors, the stack should have one (and only one) value in it. This value will be the result of evaluating the expression."
   ]
  },
  {
   "cell_type": "code",
   "execution_count": 53,
   "metadata": {},
   "outputs": [
    {
     "name": "stdout",
     "output_type": "stream",
     "text": [
      "1 2 + 3 1 + * 12 == 100 and\n",
      "1\n",
      "2\n",
      "+\n",
      "[1, 2]\n",
      "****\n",
      "3\n",
      "1\n",
      "+\n",
      "[3, 3, 1]\n",
      "****\n",
      "*\n",
      "[3, 4]\n",
      "****\n",
      "12\n",
      "==\n",
      "[12, 12]\n",
      "****\n",
      "100\n",
      "and\n",
      "[True, 100]\n",
      "****\n"
     ]
    },
    {
     "data": {
      "text/plain": [
       "'TYPE ERROR'"
      ]
     },
     "execution_count": 53,
     "metadata": {},
     "output_type": "execute_result"
    }
   ],
   "source": [
    "a = []\n",
    "b = input().split()\n",
    "def ope(b):\n",
    "    for i in b:\n",
    "        #print(i)\n",
    "        try:\n",
    "            a.append(int(i))\n",
    "        except ValueError:\n",
    "            if(i == \"false\"):\n",
    "                a.append(False)\n",
    "            elif(i==\"true\"):\n",
    "                a.append(True)\n",
    "            else:\n",
    "                #print(a)\n",
    "                #print(\"****\")\n",
    "                if(len(a)<2):\n",
    "                    return \"SYNTAX ERROR\"\n",
    "                else:\n",
    "                    b1 = a.pop()\n",
    "                    b2 = a.pop()\n",
    "                    if(type(b1)!=type(b2)):\n",
    "                        return \"TYPE ERROR\"\n",
    "                    else:\n",
    "                        if(type(b1)==bool and type(b2) == bool and i in [\"+\",\"*\",\"==\"]):\n",
    "                            return \"TYPE ERROR\"\n",
    "                        elif(type(b1)==int and type(b2)== int and i in [\"or\",\"and\"]):\n",
    "                            return \"TYPE ERRPR\"\n",
    "                        else:\n",
    "                            if (i in [\"or\" ,\"and\"]):\n",
    "                                c = eval(str(b1)+\" \"+str(i)+\" \"+str(b2))\n",
    "                            else:\n",
    "                                 c = eval(str(b1)+str(i)+str(b2))\n",
    "                            a.append(c)\n",
    "    return a\n",
    "result = ope(b)"
   ]
  },
  {
   "cell_type": "code",
   "execution_count": 48,
   "metadata": {},
   "outputs": [
    {
     "ename": "NameError",
     "evalue": "name 'false' is not defined",
     "output_type": "error",
     "traceback": [
      "\u001b[1;31m---------------------------------------------------------------------------\u001b[0m",
      "\u001b[1;31mNameError\u001b[0m                                 Traceback (most recent call last)",
      "\u001b[1;32m<ipython-input-48-55e6c33125ea>\u001b[0m in \u001b[0;36m<module>\u001b[1;34m()\u001b[0m\n\u001b[1;32m----> 1\u001b[1;33m \u001b[0mb\u001b[0m \u001b[1;33m=\u001b[0m\u001b[0mint\u001b[0m\u001b[1;33m(\u001b[0m\u001b[0mfalse\u001b[0m\u001b[1;33m)\u001b[0m\u001b[1;33m\u001b[0m\u001b[0m\n\u001b[0m",
      "\u001b[1;31mNameError\u001b[0m: name 'false' is not defined"
     ]
    }
   ],
   "source": [
    "b =int(false)\n"
   ]
  },
  {
   "cell_type": "code",
   "execution_count": 19,
   "metadata": {},
   "outputs": [
    {
     "data": {
      "text/plain": [
       "21"
      ]
     },
     "execution_count": 19,
     "metadata": {},
     "output_type": "execute_result"
    }
   ],
   "source": [
    "a = 10\n",
    "b = 11\n",
    "c = \"+\"\n",
    "eval(str(a)+str(c)+str(b))"
   ]
  },
  {
   "cell_type": "code",
   "execution_count": 16,
   "metadata": {},
   "outputs": [
    {
     "ename": "IndexError",
     "evalue": "pop from empty list",
     "output_type": "error",
     "traceback": [
      "\u001b[1;31m---------------------------------------------------------------------------\u001b[0m",
      "\u001b[1;31mIndexError\u001b[0m                                Traceback (most recent call last)",
      "\u001b[1;32m<ipython-input-16-9400d9c6286e>\u001b[0m in \u001b[0;36m<module>\u001b[1;34m()\u001b[0m\n\u001b[0;32m      1\u001b[0m \u001b[0ma\u001b[0m \u001b[1;33m=\u001b[0m \u001b[1;33m[\u001b[0m\u001b[1;36m1\u001b[0m\u001b[1;33m]\u001b[0m\u001b[1;33m\u001b[0m\u001b[0m\n\u001b[0;32m      2\u001b[0m \u001b[0ma\u001b[0m\u001b[1;33m.\u001b[0m\u001b[0mpop\u001b[0m\u001b[1;33m(\u001b[0m\u001b[1;33m)\u001b[0m\u001b[1;33m\u001b[0m\u001b[0m\n\u001b[1;32m----> 3\u001b[1;33m \u001b[0ma\u001b[0m\u001b[1;33m.\u001b[0m\u001b[0mpop\u001b[0m\u001b[1;33m(\u001b[0m\u001b[1;33m)\u001b[0m\u001b[1;33m\u001b[0m\u001b[0m\n\u001b[0m",
      "\u001b[1;31mIndexError\u001b[0m: pop from empty list"
     ]
    }
   ],
   "source": [
    "a = [1]\n",
    "a.pop()\n",
    "a.pop()"
   ]
  }
 ],
 "metadata": {
  "kernelspec": {
   "display_name": "Python 3",
   "language": "python",
   "name": "python3"
  },
  "language_info": {
   "codemirror_mode": {
    "name": "ipython",
    "version": 3
   },
   "file_extension": ".py",
   "mimetype": "text/x-python",
   "name": "python",
   "nbconvert_exporter": "python",
   "pygments_lexer": "ipython3",
   "version": "3.6.5"
  }
 },
 "nbformat": 4,
 "nbformat_minor": 2
}
