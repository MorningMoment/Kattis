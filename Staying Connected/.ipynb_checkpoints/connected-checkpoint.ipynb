{
 "cells": [
  {
   "cell_type": "markdown",
   "metadata": {},
   "source": [
    "function dfs(graph, root_vertex)\n",
    "    Mark root_vertex as \"visited\"\n",
    "    for each vertex v connected to root_vertex by an edge do\n",
    "        if v is not marked as \"visited\"\n",
    "            Mark v as \"visited\"\n",
    "            dfs(graph, v)\n",
    "        end if\n",
    "    end for\n",
    "end function"
   ]
  },
  {
   "cell_type": "markdown",
   "metadata": {},
   "source": [
    "5\n",
    "6\n",
    "0 1\n",
    "0 3\n",
    "0 4\n",
    "1 4\n",
    "2 3\n",
    "3 4\n"
   ]
  },
  {
   "cell_type": "code",
   "execution_count": null,
   "metadata": {},
   "outputs": [],
   "source": [
    "a = input().split()\n",
    "a = [int(i) for i in a]\n",
    "x = []\n",
    "for i in range(a[1]):\n",
    "    x.append([a[2*i+2],a[2*i+3]])\n",
    "    \n",
    "flag = 0    \n",
    "def con(a):\n",
    "    ac = a.copy()\n",
    "    for i in a[flag:]:\n",
    "        b = [m[1] for m in x if m[0] ==i]\n",
    "        ac.append(b)\n",
    "    ac = list(set(ac))\n",
    "    if(ac == a):\n",
    "        return a\n",
    "    else:\n",
    "        flag = len(a)\n",
    "        return con(ac)\n",
    "con([0])"
   ]
  },
  {
   "cell_type": "code",
   "execution_count": null,
   "metadata": {},
   "outputs": [],
   "source": [
    "a = input().split()\n",
    "a = [int(i) for i in a]\n",
    "x = []\n",
    "for i in range(a[1]):\n",
    "    x.append([a[2*i+2],a[2*i+3]])\n",
    "x"
   ]
  },
  {
   "cell_type": "code",
   "execution_count": null,
   "metadata": {},
   "outputs": [],
   "source": [
    "for i in [0]:\n",
    "    b = [m[1] for m in x if m[0] ==i]\n",
    "    "
   ]
  }
 ],
 "metadata": {
  "kernelspec": {
   "display_name": "Python 3",
   "language": "python",
   "name": "python3"
  },
  "language_info": {
   "codemirror_mode": {
    "name": "ipython",
    "version": 3
   },
   "file_extension": ".py",
   "mimetype": "text/x-python",
   "name": "python",
   "nbconvert_exporter": "python",
   "pygments_lexer": "ipython3",
   "version": "3.6.5"
  }
 },
 "nbformat": 4,
 "nbformat_minor": 2
}
